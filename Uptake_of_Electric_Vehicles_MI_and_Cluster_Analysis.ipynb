{
  "nbformat": 4,
  "nbformat_minor": 0,
  "metadata": {
    "colab": {
      "provenance": [],
      "authorship_tag": "ABX9TyN8nW7KWsLK1ustL3xDzsy1",
      "include_colab_link": true
    },
    "kernelspec": {
      "name": "ir",
      "display_name": "R"
    },
    "language_info": {
      "name": "R"
    }
  },
  "cells": [
    {
      "cell_type": "markdown",
      "metadata": {
        "id": "view-in-github",
        "colab_type": "text"
      },
      "source": [
        "<a href=\"https://colab.research.google.com/github/MarkStephens060482/forecasting_BEV_adoption_LGA/blob/main/Uptake_of_Electric_Vehicles_MI_and_Cluster_Analysis.ipynb\" target=\"_parent\"><img src=\"https://colab.research.google.com/assets/colab-badge.svg\" alt=\"Open In Colab\"/></a>"
      ]
    },
    {
      "cell_type": "markdown",
      "source": [
        "# Uptake of Electric Vehicles at LGA level - Multiple Imputation and Clustering Analysis\n",
        "### Enhancing Sustainable Transportation Planning through Explainable Electric Vehicle Adoption Forecasting in Ausrralian Local Governments.\n",
        "Performed in R language\n",
        "1. Upload file in R\n",
        "2. Examine spatial representation of outcome variable, represent BEV share at LGA level on map of Australia and examine time variation."
      ],
      "metadata": {
        "id": "s8qTtDAOQ0TG"
      }
    },
    {
      "cell_type": "code",
      "execution_count": 1,
      "metadata": {
        "colab": {
          "base_uri": "https://localhost:8080/"
        },
        "id": "HS9g34aQQgkV",
        "outputId": "d3ddaca9-0c27-400d-969e-53068a1eaaf5"
      },
      "outputs": [
        {
          "output_type": "stream",
          "name": "stderr",
          "text": [
            "Installing package into ‘/usr/local/lib/R/site-library’\n",
            "(as ‘lib’ is unspecified)\n",
            "\n",
            "Installing package into ‘/usr/local/lib/R/site-library’\n",
            "(as ‘lib’ is unspecified)\n",
            "\n",
            "also installing the dependencies ‘listenv’, ‘parallelly’, ‘future’, ‘globals’, ‘shape’, ‘future.apply’, ‘numDeriv’, ‘progressr’, ‘SQUAREM’, ‘diagram’, ‘lava’, ‘prodlim’, ‘proxy’, ‘iterators’, ‘Rcpp’, ‘clock’, ‘gower’, ‘hardhat’, ‘ipred’, ‘timeDate’, ‘e1071’, ‘foreach’, ‘ModelMetrics’, ‘plyr’, ‘pROC’, ‘recipes’, ‘reshape2’\n",
            "\n",
            "\n",
            "\n",
            "caret installed\n",
            "\n"
          ]
        }
      ],
      "source": [
        "install.packages(\"pacman\")\n",
        "\n",
        "pacman::p_load(dplyr,tidyverse, caret, ggplot2, mlim, Iscores)"
      ]
    }
  ]
}